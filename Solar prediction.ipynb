{
 "cells": [
  {
   "cell_type": "code",
   "execution_count": 2,
   "id": "0d00af5c",
   "metadata": {},
   "outputs": [],
   "source": [
    "import pandas as pd\n",
    "import numpy as np\n",
    "import matplotlib.pyplot as plt\n",
    "import seaborn as sns\n",
    "import warnings\n",
    "warnings.filterwarnings(\"ignore\")"
   ]
  },
  {
   "cell_type": "code",
   "execution_count": 3,
   "id": "2c952a44",
   "metadata": {},
   "outputs": [],
   "source": [
    "df=pd.read_csv('C:/Users/ambik/Documents/Solar Prediction/Solar_Prediction.csv')"
   ]
  },
  {
   "cell_type": "code",
   "execution_count": 4,
   "id": "90b61635",
   "metadata": {},
   "outputs": [
    {
     "data": {
      "text/html": [
       "<div>\n",
       "<style scoped>\n",
       "    .dataframe tbody tr th:only-of-type {\n",
       "        vertical-align: middle;\n",
       "    }\n",
       "\n",
       "    .dataframe tbody tr th {\n",
       "        vertical-align: top;\n",
       "    }\n",
       "\n",
       "    .dataframe thead th {\n",
       "        text-align: right;\n",
       "    }\n",
       "</style>\n",
       "<table border=\"1\" class=\"dataframe\">\n",
       "  <thead>\n",
       "    <tr style=\"text-align: right;\">\n",
       "      <th></th>\n",
       "      <th>UNIXTime</th>\n",
       "      <th>Data</th>\n",
       "      <th>Time</th>\n",
       "      <th>Radiation</th>\n",
       "      <th>Temperature</th>\n",
       "      <th>Pressure</th>\n",
       "      <th>Humidity</th>\n",
       "      <th>WindDirection(Degrees)</th>\n",
       "      <th>Speed</th>\n",
       "      <th>TimeSunRise</th>\n",
       "      <th>TimeSunSet</th>\n",
       "    </tr>\n",
       "  </thead>\n",
       "  <tbody>\n",
       "    <tr>\n",
       "      <th>0</th>\n",
       "      <td>1475229023</td>\n",
       "      <td>9/29/2016 12:00:00 AM</td>\n",
       "      <td>23:50:23</td>\n",
       "      <td>1.21</td>\n",
       "      <td>48</td>\n",
       "      <td>30.46</td>\n",
       "      <td>58</td>\n",
       "      <td>176.78</td>\n",
       "      <td>3.37</td>\n",
       "      <td>06:13:00</td>\n",
       "      <td>18:13:00</td>\n",
       "    </tr>\n",
       "    <tr>\n",
       "      <th>1</th>\n",
       "      <td>1475228726</td>\n",
       "      <td>9/29/2016 12:00:00 AM</td>\n",
       "      <td>23:45:26</td>\n",
       "      <td>1.23</td>\n",
       "      <td>48</td>\n",
       "      <td>30.46</td>\n",
       "      <td>57</td>\n",
       "      <td>158.75</td>\n",
       "      <td>3.37</td>\n",
       "      <td>06:13:00</td>\n",
       "      <td>18:13:00</td>\n",
       "    </tr>\n",
       "    <tr>\n",
       "      <th>2</th>\n",
       "      <td>1475228421</td>\n",
       "      <td>9/29/2016 12:00:00 AM</td>\n",
       "      <td>23:40:21</td>\n",
       "      <td>1.21</td>\n",
       "      <td>48</td>\n",
       "      <td>30.46</td>\n",
       "      <td>60</td>\n",
       "      <td>137.71</td>\n",
       "      <td>3.37</td>\n",
       "      <td>06:13:00</td>\n",
       "      <td>18:13:00</td>\n",
       "    </tr>\n",
       "    <tr>\n",
       "      <th>3</th>\n",
       "      <td>1475228124</td>\n",
       "      <td>9/29/2016 12:00:00 AM</td>\n",
       "      <td>23:35:24</td>\n",
       "      <td>1.17</td>\n",
       "      <td>48</td>\n",
       "      <td>30.46</td>\n",
       "      <td>62</td>\n",
       "      <td>104.95</td>\n",
       "      <td>5.62</td>\n",
       "      <td>06:13:00</td>\n",
       "      <td>18:13:00</td>\n",
       "    </tr>\n",
       "    <tr>\n",
       "      <th>4</th>\n",
       "      <td>1475227824</td>\n",
       "      <td>9/29/2016 12:00:00 AM</td>\n",
       "      <td>23:30:24</td>\n",
       "      <td>1.21</td>\n",
       "      <td>48</td>\n",
       "      <td>30.46</td>\n",
       "      <td>64</td>\n",
       "      <td>120.20</td>\n",
       "      <td>5.62</td>\n",
       "      <td>06:13:00</td>\n",
       "      <td>18:13:00</td>\n",
       "    </tr>\n",
       "  </tbody>\n",
       "</table>\n",
       "</div>"
      ],
      "text/plain": [
       "     UNIXTime                   Data      Time  Radiation  Temperature  \\\n",
       "0  1475229023  9/29/2016 12:00:00 AM  23:50:23       1.21           48   \n",
       "1  1475228726  9/29/2016 12:00:00 AM  23:45:26       1.23           48   \n",
       "2  1475228421  9/29/2016 12:00:00 AM  23:40:21       1.21           48   \n",
       "3  1475228124  9/29/2016 12:00:00 AM  23:35:24       1.17           48   \n",
       "4  1475227824  9/29/2016 12:00:00 AM  23:30:24       1.21           48   \n",
       "\n",
       "   Pressure  Humidity  WindDirection(Degrees)  Speed TimeSunRise TimeSunSet  \n",
       "0     30.46        58                  176.78   3.37    06:13:00   18:13:00  \n",
       "1     30.46        57                  158.75   3.37    06:13:00   18:13:00  \n",
       "2     30.46        60                  137.71   3.37    06:13:00   18:13:00  \n",
       "3     30.46        62                  104.95   5.62    06:13:00   18:13:00  \n",
       "4     30.46        64                  120.20   5.62    06:13:00   18:13:00  "
      ]
     },
     "execution_count": 4,
     "metadata": {},
     "output_type": "execute_result"
    }
   ],
   "source": [
    "df.head()"
   ]
  },
  {
   "cell_type": "code",
   "execution_count": 5,
   "id": "5086c414",
   "metadata": {},
   "outputs": [
    {
     "data": {
      "text/plain": [
       "UNIXTime                  0\n",
       "Data                      0\n",
       "Time                      0\n",
       "Radiation                 0\n",
       "Temperature               0\n",
       "Pressure                  0\n",
       "Humidity                  0\n",
       "WindDirection(Degrees)    0\n",
       "Speed                     0\n",
       "TimeSunRise               0\n",
       "TimeSunSet                0\n",
       "dtype: int64"
      ]
     },
     "execution_count": 5,
     "metadata": {},
     "output_type": "execute_result"
    }
   ],
   "source": [
    "df.isnull().sum()"
   ]
  },
  {
   "cell_type": "code",
   "execution_count": 6,
   "id": "4769a8dc",
   "metadata": {},
   "outputs": [
    {
     "name": "stdout",
     "output_type": "stream",
     "text": [
      "<class 'pandas.core.frame.DataFrame'>\n",
      "RangeIndex: 32685 entries, 0 to 32684\n",
      "Data columns (total 11 columns):\n",
      " #   Column                  Non-Null Count  Dtype  \n",
      "---  ------                  --------------  -----  \n",
      " 0   UNIXTime                32685 non-null  int64  \n",
      " 1   Data                    32685 non-null  object \n",
      " 2   Time                    32685 non-null  object \n",
      " 3   Radiation               32685 non-null  float64\n",
      " 4   Temperature             32685 non-null  int64  \n",
      " 5   Pressure                32685 non-null  float64\n",
      " 6   Humidity                32685 non-null  int64  \n",
      " 7   WindDirection(Degrees)  32685 non-null  float64\n",
      " 8   Speed                   32685 non-null  float64\n",
      " 9   TimeSunRise             32685 non-null  object \n",
      " 10  TimeSunSet              32685 non-null  object \n",
      "dtypes: float64(4), int64(3), object(4)\n",
      "memory usage: 2.7+ MB\n"
     ]
    }
   ],
   "source": [
    "df.info()"
   ]
  },
  {
   "cell_type": "code",
   "execution_count": 8,
   "id": "f93029fc",
   "metadata": {},
   "outputs": [
    {
     "data": {
      "text/plain": [
       "(32685, 11)"
      ]
     },
     "execution_count": 8,
     "metadata": {},
     "output_type": "execute_result"
    }
   ],
   "source": [
    "df.shape"
   ]
  },
  {
   "cell_type": "code",
   "execution_count": 11,
   "id": "2c468c79",
   "metadata": {},
   "outputs": [],
   "source": [
    "# convert unixtime to datetime\n",
    "df['UNIXTime']=pd.to_datetime(df['UNIXTime'],unit='s')"
   ]
  },
  {
   "cell_type": "code",
   "execution_count": 33,
   "id": "f4924a2f",
   "metadata": {},
   "outputs": [],
   "source": [
    "df['TimeSunRise'] = pd.to_datetime(df['TimeSunRise'], format='%H:%M:%S')\n",
    "df['TimeSunSet'] = pd.to_datetime(df['TimeSunSet'], format='%H:%M:%S')\n",
    "df['Time']=pd.to_datetime(df['Time'],format='%H:%M:%S')"
   ]
  },
  {
   "cell_type": "code",
   "execution_count": null,
   "id": "ae4087ce",
   "metadata": {},
   "outputs": [],
   "source": []
  },
  {
   "cell_type": "code",
   "execution_count": 34,
   "id": "e990c15b",
   "metadata": {},
   "outputs": [
    {
     "name": "stdout",
     "output_type": "stream",
     "text": [
      "<class 'pandas.core.frame.DataFrame'>\n",
      "RangeIndex: 32685 entries, 0 to 32684\n",
      "Data columns (total 13 columns):\n",
      " #   Column                  Non-Null Count  Dtype         \n",
      "---  ------                  --------------  -----         \n",
      " 0   UNIXTime                32685 non-null  datetime64[ns]\n",
      " 1   Data                    32685 non-null  object        \n",
      " 2   Time                    32685 non-null  datetime64[ns]\n",
      " 3   Radiation               32685 non-null  float64       \n",
      " 4   Temperature             32685 non-null  int64         \n",
      " 5   Pressure                32685 non-null  float64       \n",
      " 6   Humidity                32685 non-null  int64         \n",
      " 7   WindDirection(Degrees)  32685 non-null  float64       \n",
      " 8   Speed                   32685 non-null  float64       \n",
      " 9   TimeSunRise             32685 non-null  datetime64[ns]\n",
      " 10  TimeSunSet              32685 non-null  datetime64[ns]\n",
      " 11  SunRiseSec              32685 non-null  int64         \n",
      " 12  SunSetSec               32685 non-null  int64         \n",
      "dtypes: datetime64[ns](4), float64(4), int64(4), object(1)\n",
      "memory usage: 3.2+ MB\n"
     ]
    }
   ],
   "source": [
    "df.info()"
   ]
  },
  {
   "cell_type": "code",
   "execution_count": 36,
   "id": "ede04d6d",
   "metadata": {},
   "outputs": [],
   "source": [
    "def time_to_seconds(t):\n",
    "    return t.hour * 3600 + t.minute * 60 + t.second"
   ]
  },
  {
   "cell_type": "code",
   "execution_count": 38,
   "id": "f93eb85e",
   "metadata": {},
   "outputs": [],
   "source": [
    "df['SunRiseSec'] = df['TimeSunRise'].apply(time_to_seconds)\n",
    "df['SunSetSec'] = df['TimeSunSet'].apply(time_to_seconds)\n",
    "df['Time']=df['Time'].apply(time_to_seconds)"
   ]
  },
  {
   "cell_type": "code",
   "execution_count": 39,
   "id": "74f0c960",
   "metadata": {},
   "outputs": [],
   "source": [
    "df['TimeFromSunRise'] = df['Time'] - df['SunRiseSec']\n",
    "df['TimeFromSunSet'] = df['Time'] - df['SunSetSec']"
   ]
  },
  {
   "cell_type": "code",
   "execution_count": 40,
   "id": "f6e61765",
   "metadata": {},
   "outputs": [
    {
     "data": {
      "text/html": [
       "<div>\n",
       "<style scoped>\n",
       "    .dataframe tbody tr th:only-of-type {\n",
       "        vertical-align: middle;\n",
       "    }\n",
       "\n",
       "    .dataframe tbody tr th {\n",
       "        vertical-align: top;\n",
       "    }\n",
       "\n",
       "    .dataframe thead th {\n",
       "        text-align: right;\n",
       "    }\n",
       "</style>\n",
       "<table border=\"1\" class=\"dataframe\">\n",
       "  <thead>\n",
       "    <tr style=\"text-align: right;\">\n",
       "      <th></th>\n",
       "      <th>UNIXTime</th>\n",
       "      <th>Data</th>\n",
       "      <th>Time</th>\n",
       "      <th>Radiation</th>\n",
       "      <th>Temperature</th>\n",
       "      <th>Pressure</th>\n",
       "      <th>Humidity</th>\n",
       "      <th>WindDirection(Degrees)</th>\n",
       "      <th>Speed</th>\n",
       "      <th>TimeSunRise</th>\n",
       "      <th>TimeSunSet</th>\n",
       "      <th>SunRiseSec</th>\n",
       "      <th>SunSetSec</th>\n",
       "      <th>TimeFromSunRise</th>\n",
       "      <th>TimeFromSunSet</th>\n",
       "    </tr>\n",
       "  </thead>\n",
       "  <tbody>\n",
       "    <tr>\n",
       "      <th>0</th>\n",
       "      <td>2016-09-30 09:50:23</td>\n",
       "      <td>9/29/2016 12:00:00 AM</td>\n",
       "      <td>85823</td>\n",
       "      <td>1.21</td>\n",
       "      <td>48</td>\n",
       "      <td>30.46</td>\n",
       "      <td>58</td>\n",
       "      <td>176.78</td>\n",
       "      <td>3.37</td>\n",
       "      <td>1900-01-01 06:13:00</td>\n",
       "      <td>1900-01-01 18:13:00</td>\n",
       "      <td>22380</td>\n",
       "      <td>65580</td>\n",
       "      <td>63443</td>\n",
       "      <td>20243</td>\n",
       "    </tr>\n",
       "    <tr>\n",
       "      <th>1</th>\n",
       "      <td>2016-09-30 09:45:26</td>\n",
       "      <td>9/29/2016 12:00:00 AM</td>\n",
       "      <td>85526</td>\n",
       "      <td>1.23</td>\n",
       "      <td>48</td>\n",
       "      <td>30.46</td>\n",
       "      <td>57</td>\n",
       "      <td>158.75</td>\n",
       "      <td>3.37</td>\n",
       "      <td>1900-01-01 06:13:00</td>\n",
       "      <td>1900-01-01 18:13:00</td>\n",
       "      <td>22380</td>\n",
       "      <td>65580</td>\n",
       "      <td>63146</td>\n",
       "      <td>19946</td>\n",
       "    </tr>\n",
       "    <tr>\n",
       "      <th>2</th>\n",
       "      <td>2016-09-30 09:40:21</td>\n",
       "      <td>9/29/2016 12:00:00 AM</td>\n",
       "      <td>85221</td>\n",
       "      <td>1.21</td>\n",
       "      <td>48</td>\n",
       "      <td>30.46</td>\n",
       "      <td>60</td>\n",
       "      <td>137.71</td>\n",
       "      <td>3.37</td>\n",
       "      <td>1900-01-01 06:13:00</td>\n",
       "      <td>1900-01-01 18:13:00</td>\n",
       "      <td>22380</td>\n",
       "      <td>65580</td>\n",
       "      <td>62841</td>\n",
       "      <td>19641</td>\n",
       "    </tr>\n",
       "    <tr>\n",
       "      <th>3</th>\n",
       "      <td>2016-09-30 09:35:24</td>\n",
       "      <td>9/29/2016 12:00:00 AM</td>\n",
       "      <td>84924</td>\n",
       "      <td>1.17</td>\n",
       "      <td>48</td>\n",
       "      <td>30.46</td>\n",
       "      <td>62</td>\n",
       "      <td>104.95</td>\n",
       "      <td>5.62</td>\n",
       "      <td>1900-01-01 06:13:00</td>\n",
       "      <td>1900-01-01 18:13:00</td>\n",
       "      <td>22380</td>\n",
       "      <td>65580</td>\n",
       "      <td>62544</td>\n",
       "      <td>19344</td>\n",
       "    </tr>\n",
       "    <tr>\n",
       "      <th>4</th>\n",
       "      <td>2016-09-30 09:30:24</td>\n",
       "      <td>9/29/2016 12:00:00 AM</td>\n",
       "      <td>84624</td>\n",
       "      <td>1.21</td>\n",
       "      <td>48</td>\n",
       "      <td>30.46</td>\n",
       "      <td>64</td>\n",
       "      <td>120.20</td>\n",
       "      <td>5.62</td>\n",
       "      <td>1900-01-01 06:13:00</td>\n",
       "      <td>1900-01-01 18:13:00</td>\n",
       "      <td>22380</td>\n",
       "      <td>65580</td>\n",
       "      <td>62244</td>\n",
       "      <td>19044</td>\n",
       "    </tr>\n",
       "  </tbody>\n",
       "</table>\n",
       "</div>"
      ],
      "text/plain": [
       "             UNIXTime                   Data   Time  Radiation  Temperature  \\\n",
       "0 2016-09-30 09:50:23  9/29/2016 12:00:00 AM  85823       1.21           48   \n",
       "1 2016-09-30 09:45:26  9/29/2016 12:00:00 AM  85526       1.23           48   \n",
       "2 2016-09-30 09:40:21  9/29/2016 12:00:00 AM  85221       1.21           48   \n",
       "3 2016-09-30 09:35:24  9/29/2016 12:00:00 AM  84924       1.17           48   \n",
       "4 2016-09-30 09:30:24  9/29/2016 12:00:00 AM  84624       1.21           48   \n",
       "\n",
       "   Pressure  Humidity  WindDirection(Degrees)  Speed         TimeSunRise  \\\n",
       "0     30.46        58                  176.78   3.37 1900-01-01 06:13:00   \n",
       "1     30.46        57                  158.75   3.37 1900-01-01 06:13:00   \n",
       "2     30.46        60                  137.71   3.37 1900-01-01 06:13:00   \n",
       "3     30.46        62                  104.95   5.62 1900-01-01 06:13:00   \n",
       "4     30.46        64                  120.20   5.62 1900-01-01 06:13:00   \n",
       "\n",
       "           TimeSunSet  SunRiseSec  SunSetSec  TimeFromSunRise  TimeFromSunSet  \n",
       "0 1900-01-01 18:13:00       22380      65580            63443           20243  \n",
       "1 1900-01-01 18:13:00       22380      65580            63146           19946  \n",
       "2 1900-01-01 18:13:00       22380      65580            62841           19641  \n",
       "3 1900-01-01 18:13:00       22380      65580            62544           19344  \n",
       "4 1900-01-01 18:13:00       22380      65580            62244           19044  "
      ]
     },
     "execution_count": 40,
     "metadata": {},
     "output_type": "execute_result"
    }
   ],
   "source": [
    "df.head()"
   ]
  },
  {
   "cell_type": "code",
   "execution_count": 41,
   "id": "7c29f590",
   "metadata": {},
   "outputs": [],
   "source": [
    "# Select Relevant features\n",
    "features = ['Temperature', 'Pressure', 'Humidity', 'WindDirection(Degrees)', 'Speed', 'Time', 'TimeFromSunRise', 'TimeFromSunSet']\n",
    "target = 'Radiation'\n",
    "X = df[features]\n",
    "y = df[target]"
   ]
  },
  {
   "cell_type": "code",
   "execution_count": 42,
   "id": "3c52ccdf",
   "metadata": {},
   "outputs": [],
   "source": [
    "from sklearn.model_selection import train_test_split\n",
    "\n",
    "X_train, X_test, y_train, y_test = train_test_split(X, y, test_size=0.2, random_state=42)"
   ]
  },
  {
   "cell_type": "code",
   "execution_count": 43,
   "id": "9c5a4d32",
   "metadata": {},
   "outputs": [
    {
     "data": {
      "text/plain": [
       "RandomForestRegressor(random_state=42)"
      ]
     },
     "execution_count": 43,
     "metadata": {},
     "output_type": "execute_result"
    }
   ],
   "source": [
    "from sklearn.ensemble import RandomForestRegressor\n",
    "\n",
    "model = RandomForestRegressor(n_estimators=100, random_state=42)\n",
    "model.fit(X_train, y_train)"
   ]
  },
  {
   "cell_type": "code",
   "execution_count": 45,
   "id": "d60f2e3a",
   "metadata": {},
   "outputs": [],
   "source": [
    "y_pred = model.predict(X_test)"
   ]
  },
  {
   "cell_type": "code",
   "execution_count": 46,
   "id": "4c474ddc",
   "metadata": {},
   "outputs": [
    {
     "name": "stdout",
     "output_type": "stream",
     "text": [
      "Mean Absolute Error: 35.21007416245984\n",
      "Mean Squared Error: 7869.988402850961\n",
      "Root Mean Squared Error: 88.71295510155753\n",
      "R^2 Score: 0.9203639576137119\n"
     ]
    }
   ],
   "source": [
    "from sklearn.metrics import mean_absolute_error, mean_squared_error, r2_score\n",
    "\n",
    "mae = mean_absolute_error(y_test, y_pred)\n",
    "mse = mean_squared_error(y_test, y_pred)\n",
    "rmse = mse ** 0.5\n",
    "r2 = r2_score(y_test, y_pred)\n",
    "\n",
    "print(f'Mean Absolute Error: {mae}')\n",
    "print(f'Mean Squared Error: {mse}')\n",
    "print(f'Root Mean Squared Error: {rmse}')\n",
    "print(f'R^2 Score: {r2}')"
   ]
  },
  {
   "cell_type": "code",
   "execution_count": 47,
   "id": "e7a51422",
   "metadata": {},
   "outputs": [
    {
     "data": {
      "text/plain": [
       "<AxesSubplot:>"
      ]
     },
     "execution_count": 47,
     "metadata": {},
     "output_type": "execute_result"
    },
    {
     "data": {
      "image/png": "[encoded data removed]",
      "text/plain": [
       "<Figure size 640x480 with 1 Axes>"
      ]
     },
     "metadata": {},
     "output_type": "display_data"
    }
   ],
   "source": [
    "feature_importances = pd.Series(model.feature_importances_, index=features)\n",
    "feature_importances.sort_values().plot(kind='barh')"
   ]
  },
  {
   "cell_type": "code",
   "execution_count": 48,
   "id": "0167fd3c",
   "metadata": {},
   "outputs": [
    {
     "name": "stdout",
     "output_type": "stream",
     "text": [
      "Fitting 3 folds for each of 108 candidates, totalling 324 fits\n",
      "Best Model Parameters: {'max_depth': 30, 'min_samples_leaf': 1, 'min_samples_split': 2, 'n_estimators': 300}\n",
      "Mean Absolute Error: 35.10036888932283\n",
      "Mean Squared Error: 7851.969589994662\n",
      "Root Mean Squared Error: 88.6113400756058\n",
      "R^2 Score: 0.9205462891332673\n"
     ]
    }
   ],
   "source": [
    "from sklearn.model_selection import GridSearchCV\n",
    "\n",
    "param_grid = {\n",
    "    'n_estimators': [100, 200, 300],\n",
    "    'max_depth': [None, 10, 20, 30],\n",
    "    'min_samples_split': [2, 5, 10],\n",
    "    'min_samples_leaf': [1, 2, 4]\n",
    "}\n",
    "\n",
    "grid_search = GridSearchCV(estimator=model, param_grid=param_grid, cv=3, n_jobs=-1, verbose=2)\n",
    "grid_search.fit(X_train, y_train)\n",
    "\n",
    "best_model = grid_search.best_estimator_\n",
    "y_pred = best_model.predict(X_test)\n",
    "\n",
    "mae = mean_absolute_error(y_test, y_pred)\n",
    "mse = mean_squared_error(y_test, y_pred)\n",
    "rmse = mse ** 0.5\n",
    "r2 = r2_score(y_test, y_pred)\n",
    "\n",
    "print(f'Best Model Parameters: {grid_search.best_params_}')\n",
    "print(f'Mean Absolute Error: {mae}')\n",
    "print(f'Mean Squared Error: {mse}')\n",
    "print(f'Root Mean Squared Error: {rmse}')\n",
    "print(f'R^2 Score: {r2}')\n"
   ]
  }
 ],
 "metadata": {
  "kernelspec": {
   "display_name": "Python 3 (ipykernel)",
   "language": "python",
   "name": "python3"
  },
  "language_info": {
   "codemirror_mode": {
    "name": "ipython",
    "version": 3
   },
   "file_extension": ".py",
   "mimetype": "text/x-python",
   "name": "python",
   "nbconvert_exporter": "python",
   "pygments_lexer": "ipython3",
   "version": "3.9.13"
  }
 },
 "nbformat": 4,
 "nbformat_minor": 5
}
